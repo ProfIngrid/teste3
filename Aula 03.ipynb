{
 "cells": [
  {
   "cell_type": "code",
   "execution_count": 1,
   "id": "63ebb864",
   "metadata": {},
   "outputs": [
    {
     "name": "stdout",
     "output_type": "stream",
     "text": [
      "['Naruto', 'Midoria', 'Tanjiro', 'Mikasa']\n"
     ]
    }
   ],
   "source": [
    "#Listas - array\n",
    "convidados = [\"Naruto\", \"Midoria\", \"Tanjiro\", \"Mikasa\"]\n",
    "print(convidados)"
   ]
  },
  {
   "cell_type": "code",
   "execution_count": 2,
   "id": "fbb6c94c",
   "metadata": {},
   "outputs": [
    {
     "name": "stdout",
     "output_type": "stream",
     "text": [
      "O primeiro convidado foi: Naruto\n"
     ]
    }
   ],
   "source": [
    "print(\"O primeiro convidado foi: \"+convidados[0])"
   ]
  },
  {
   "cell_type": "code",
   "execution_count": 3,
   "id": "44ebced6",
   "metadata": {},
   "outputs": [
    {
     "name": "stdout",
     "output_type": "stream",
     "text": [
      "Tanjiro\n"
     ]
    }
   ],
   "source": [
    "print(convidados[2])"
   ]
  },
  {
   "cell_type": "code",
   "execution_count": 4,
   "id": "0fb0a9d4",
   "metadata": {},
   "outputs": [
    {
     "name": "stdout",
     "output_type": "stream",
     "text": [
      "Mikasa\n"
     ]
    }
   ],
   "source": [
    "print(convidados[-1])"
   ]
  },
  {
   "cell_type": "code",
   "execution_count": 5,
   "id": "4c34fe18",
   "metadata": {},
   "outputs": [
    {
     "name": "stdout",
     "output_type": "stream",
     "text": [
      "['Todoroki', 'Midoria', 'Tanjiro', 'Mikasa']\n"
     ]
    }
   ],
   "source": [
    "#Alterar um valor - item\n",
    "convidados[0] = \"Todoroki\"\n",
    "print(convidados)"
   ]
  },
  {
   "cell_type": "code",
   "execution_count": 7,
   "id": "f2503c34",
   "metadata": {},
   "outputs": [
    {
     "name": "stdout",
     "output_type": "stream",
     "text": [
      "['Todoroki', 'Midoria', 'Tanjiro', 'Mikasa', 'Hulk', 'Hulk']\n"
     ]
    }
   ],
   "source": [
    "#adicionar mais um valor\n",
    "convidados.append(\"Hulk\")\n",
    "print(convidados)"
   ]
  },
  {
   "cell_type": "code",
   "execution_count": 8,
   "id": "d66c954e",
   "metadata": {},
   "outputs": [
    {
     "name": "stdout",
     "output_type": "stream",
     "text": [
      "['Tony Stark', 'Todoroki', 'Midoria', 'Tanjiro', 'Mikasa', 'Hulk', 'Hulk']\n"
     ]
    }
   ],
   "source": [
    "#adicionar em uma posicao especifica\n",
    "convidados.insert(0, \"Tony Stark\")\n",
    "print(convidados)"
   ]
  },
  {
   "cell_type": "code",
   "execution_count": 9,
   "id": "86932f79",
   "metadata": {},
   "outputs": [
    {
     "name": "stdout",
     "output_type": "stream",
     "text": [
      "['Tony Stark', 'Todoroki', 'Midoria', 'Tanjiro', 'Mikasa', 'Hulk']\n"
     ]
    }
   ],
   "source": [
    "#remover um valor - item\n",
    "del convidados[-1]\n",
    "print(convidados)"
   ]
  },
  {
   "cell_type": "code",
   "execution_count": 10,
   "id": "ccfbfa6b",
   "metadata": {},
   "outputs": [
    {
     "name": "stdout",
     "output_type": "stream",
     "text": [
      "['Tony Stark', 'Todoroki', 'Midoria', 'Tanjiro', 'Mikasa']\n"
     ]
    }
   ],
   "source": [
    "#remover o ultimo\n",
    "convidados.pop()\n",
    "print(convidados)"
   ]
  },
  {
   "cell_type": "code",
   "execution_count": 11,
   "id": "378b4205",
   "metadata": {},
   "outputs": [
    {
     "name": "stdout",
     "output_type": "stream",
     "text": [
      "Removeu Midoria\n",
      "['Tony Stark', 'Todoroki', 'Tanjiro', 'Mikasa']\n"
     ]
    }
   ],
   "source": [
    "''' \n",
    "O comando del, simplesmente remove\n",
    "O comando pop, ele remove, e pode enviar para outro lugar\n",
    "'''\n",
    "terceiro = convidados.pop(2)\n",
    "print(\"Removeu \"+terceiro)\n",
    "print(convidados)"
   ]
  },
  {
   "cell_type": "code",
   "execution_count": 12,
   "id": "19fba1c1",
   "metadata": {},
   "outputs": [
    {
     "name": "stdout",
     "output_type": "stream",
     "text": [
      "['Tony Stark', 'Todoroki', 'Tanjiro']\n"
     ]
    }
   ],
   "source": [
    "#remover sem saber a posição\n",
    "convidados.remove(\"Mikasa\")\n",
    "print(convidados)"
   ]
  },
  {
   "cell_type": "code",
   "execution_count": 13,
   "id": "f1bf9124",
   "metadata": {},
   "outputs": [
    {
     "name": "stdout",
     "output_type": "stream",
     "text": [
      "['If only', 'Let it go', 'Memories', 'Never gonna give you up']\n"
     ]
    }
   ],
   "source": [
    "musicas = [\"Never gonna give you up\", \"If only\", \"Let it go\", \"Memories\"]\n",
    "#ordem alfabética  a - z \n",
    "musicas.sort()\n",
    "print(musicas)"
   ]
  },
  {
   "cell_type": "code",
   "execution_count": 14,
   "id": "962665f4",
   "metadata": {},
   "outputs": [
    {
     "name": "stdout",
     "output_type": "stream",
     "text": [
      "['Never gonna give you up', 'Memories', 'Let it go', 'If only']\n"
     ]
    }
   ],
   "source": [
    "#ordem inversa z - a\n",
    "musicas.sort(reverse=True)\n",
    "print(musicas)"
   ]
  },
  {
   "cell_type": "code",
   "execution_count": 15,
   "id": "9f754bec",
   "metadata": {},
   "outputs": [
    {
     "name": "stdout",
     "output_type": "stream",
     "text": [
      "['Divertidamente', 'Filme Palmer', 'Frozen 2', 'Glee', 'Lucca', 'MegaMente']\n"
     ]
    }
   ],
   "source": [
    "filmes = [\"Frozen 2\", \"Glee\", \"Filme Palmer\", \n",
    "          \"Divertidamente\", \"MegaMente\", \"Lucca\"]\n",
    "\n",
    "print( sorted(filmes) )"
   ]
  },
  {
   "cell_type": "code",
   "execution_count": 16,
   "id": "636de710",
   "metadata": {},
   "outputs": [
    {
     "name": "stdout",
     "output_type": "stream",
     "text": [
      "['Frozen 2', 'Glee', 'Filme Palmer', 'Divertidamente', 'MegaMente', 'Lucca']\n"
     ]
    }
   ],
   "source": [
    "print(filmes)"
   ]
  },
  {
   "cell_type": "code",
   "execution_count": 17,
   "id": "e6c14bae",
   "metadata": {},
   "outputs": [
    {
     "name": "stdout",
     "output_type": "stream",
     "text": [
      "['MegaMente', 'Lucca', 'Glee', 'Frozen 2', 'Filme Palmer', 'Divertidamente']\n"
     ]
    }
   ],
   "source": [
    "#ordem inversa\n",
    "print( sorted(filmes, reverse=True) )"
   ]
  },
  {
   "cell_type": "code",
   "execution_count": 18,
   "id": "4a077baa",
   "metadata": {},
   "outputs": [
    {
     "name": "stdout",
     "output_type": "stream",
     "text": [
      "['Frozen 2', 'Glee', 'Filme Palmer', 'Divertidamente', 'MegaMente', 'Lucca']\n"
     ]
    }
   ],
   "source": [
    "print(filmes)"
   ]
  },
  {
   "cell_type": "code",
   "execution_count": 19,
   "id": "3370c14c",
   "metadata": {},
   "outputs": [
    {
     "name": "stdout",
     "output_type": "stream",
     "text": [
      "['Lucca', 'MegaMente', 'Divertidamente', 'Filme Palmer', 'Glee', 'Frozen 2']\n"
     ]
    }
   ],
   "source": [
    "filmes.reverse()\n",
    "print(filmes)"
   ]
  },
  {
   "cell_type": "code",
   "execution_count": 22,
   "id": "d8768b85",
   "metadata": {},
   "outputs": [
    {
     "name": "stdout",
     "output_type": "stream",
     "text": [
      "Tamanho da lista\n",
      "6\n",
      "Exibe uma parte da lista\n",
      "['MegaMente', 'Divertidamente', 'Filme Palmer']\n",
      "Cópia\n",
      "['Lucca', 'MegaMente', 'Divertidamente', 'Filme Palmer', 'Glee', 'Frozen 2']\n"
     ]
    }
   ],
   "source": [
    "#mais funções úteis\n",
    "print(\"Tamanho da lista\")\n",
    "print( len(filmes) )\n",
    "\n",
    "print(\"Exibe uma parte da lista\")\n",
    "print( filmes[1:4] )\n",
    "\n",
    "#copiar uma lista\n",
    "filmes2 = filmes[:]\n",
    "print(\"Cópia\")\n",
    "print(filmes2)"
   ]
  },
  {
   "cell_type": "code",
   "execution_count": 24,
   "id": "e14d2b4c",
   "metadata": {},
   "outputs": [
    {
     "name": "stdout",
     "output_type": "stream",
     "text": [
      "Cria uma lista de numeros automático\n",
      "[1, 2, 3, 4]\n",
      "Menor valor\n",
      "1\n",
      "Maior valor\n",
      "4\n"
     ]
    }
   ],
   "source": [
    "#Funções úteis com números\n",
    "print(\"Cria uma lista de numeros automático\")\n",
    "numeros = list( range(1,5) )\n",
    "print(numeros)\n",
    "\n",
    "print(\"Menor valor\")\n",
    "print( min(numeros) )\n",
    "print(\"Maior valor\")\n",
    "print( max(numeros) )"
   ]
  },
  {
   "cell_type": "code",
   "execution_count": 26,
   "id": "ea2ad0e1",
   "metadata": {},
   "outputs": [
    {
     "name": "stdout",
     "output_type": "stream",
     "text": [
      "Céu Azul\n",
      "If Only\n"
     ]
    }
   ],
   "source": [
    "#Lista de listas - Array - Matrizes\n",
    "musicasGerais = [ [\"Tempo perdido\", \"Garota de ipanema\", \n",
    "                   \"Céu Azul\" , \"Azul da cor do mar\"] , \n",
    "                 [\"If Only\", \"Never gonna give you up\", \n",
    "                   \"Memories\" , \"Let it go\"] ]\n",
    "print(musicasGerais[0][2])\n",
    "print(musicasGerais[1][0])"
   ]
  },
  {
   "cell_type": "code",
   "execution_count": null,
   "id": "193d3392",
   "metadata": {},
   "outputs": [],
   "source": []
  }
 ],
 "metadata": {
  "kernelspec": {
   "display_name": "Python 3",
   "language": "python",
   "name": "python3"
  },
  "language_info": {
   "codemirror_mode": {
    "name": "ipython",
    "version": 3
   },
   "file_extension": ".py",
   "mimetype": "text/x-python",
   "name": "python",
   "nbconvert_exporter": "python",
   "pygments_lexer": "ipython3",
   "version": "3.8.8"
  }
 },
 "nbformat": 4,
 "nbformat_minor": 5
}
