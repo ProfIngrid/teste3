{
 "cells": [
  {
   "cell_type": "code",
   "execution_count": 1,
   "id": "666c17fd",
   "metadata": {},
   "outputs": [
    {
     "name": "stdout",
     "output_type": "stream",
     "text": [
      "20\n"
     ]
    }
   ],
   "source": [
    "#Módulos - são arquivos que possuem um conjunto de funções\n",
    "#Disponíveis pra usar a qlqr momento\n",
    "#Importar pro meu projeto o módulo\n",
    "import random\n",
    "print(random.randint(1,20))"
   ]
  },
  {
   "cell_type": "code",
   "execution_count": 2,
   "id": "13eba31c",
   "metadata": {},
   "outputs": [
    {
     "name": "stdout",
     "output_type": "stream",
     "text": [
      "8.0\n"
     ]
    }
   ],
   "source": [
    "import math\n",
    "\n",
    "#potenciação - 2 elevado a 3\n",
    "print(math.pow(2,3))"
   ]
  },
  {
   "cell_type": "code",
   "execution_count": 3,
   "id": "57f6b7b5",
   "metadata": {},
   "outputs": [
    {
     "name": "stdout",
     "output_type": "stream",
     "text": [
      "3\n",
      "2\n"
     ]
    }
   ],
   "source": [
    "#Arredondar valores\n",
    "print(math.ceil(2.5)) #arredonda o valor para cima\n",
    "print(math.trunc(2.5)) #arredonda o valor para baixo"
   ]
  },
  {
   "cell_type": "code",
   "execution_count": 4,
   "id": "e94bb75a",
   "metadata": {},
   "outputs": [
    {
     "name": "stdout",
     "output_type": "stream",
     "text": [
      "Arquivo não existe\n"
     ]
    }
   ],
   "source": [
    "#remover arquivos\n",
    "import os\n",
    "\n",
    "if os.path.exists(\"arquivo.txt\"):\n",
    "    os.remove(\"arquivo.txt\")\n",
    "else:\n",
    "    print(\"Arquivo não existe\")"
   ]
  },
  {
   "cell_type": "code",
   "execution_count": 5,
   "id": "5656dac3",
   "metadata": {},
   "outputs": [
    {
     "name": "stdout",
     "output_type": "stream",
     "text": [
      "['__doc__', '__loader__', '__name__', '__package__', '__spec__', 'acos', 'acosh', 'asin', 'asinh', 'atan', 'atan2', 'atanh', 'ceil', 'comb', 'copysign', 'cos', 'cosh', 'degrees', 'dist', 'e', 'erf', 'erfc', 'exp', 'expm1', 'fabs', 'factorial', 'floor', 'fmod', 'frexp', 'fsum', 'gamma', 'gcd', 'hypot', 'inf', 'isclose', 'isfinite', 'isinf', 'isnan', 'isqrt', 'lcm', 'ldexp', 'lgamma', 'log', 'log10', 'log1p', 'log2', 'modf', 'nan', 'nextafter', 'perm', 'pi', 'pow', 'prod', 'radians', 'remainder', 'sin', 'sinh', 'sqrt', 'tan', 'tanh', 'tau', 'trunc', 'ulp']\n"
     ]
    }
   ],
   "source": [
    "#descobrir as funções dos módulos\n",
    "print(dir(math))"
   ]
  },
  {
   "cell_type": "code",
   "execution_count": 6,
   "id": "175a2753",
   "metadata": {},
   "outputs": [
    {
     "name": "stdout",
     "output_type": "stream",
     "text": [
      "Help on built-in function sqrt in module math:\n",
      "\n",
      "sqrt(x, /)\n",
      "    Return the square root of x.\n",
      "\n"
     ]
    }
   ],
   "source": [
    "help(math.sqrt)"
   ]
  },
  {
   "cell_type": "code",
   "execution_count": 7,
   "id": "a131d079",
   "metadata": {},
   "outputs": [
    {
     "name": "stdout",
     "output_type": "stream",
     "text": [
      "8.0\n"
     ]
    }
   ],
   "source": [
    "print(math.sqrt(64))"
   ]
  },
  {
   "cell_type": "code",
   "execution_count": 10,
   "id": "bfda0c44",
   "metadata": {},
   "outputs": [
    {
     "name": "stdout",
     "output_type": "stream",
     "text": [
      "20\n",
      "8\n"
     ]
    }
   ],
   "source": [
    "import dadosRPG\n",
    "\n",
    "print(dadosRPG.rolarComVantagem(20))\n",
    "print(dadosRPG.rolarComDesvantagem(20))"
   ]
  },
  {
   "cell_type": "code",
   "execution_count": null,
   "id": "36f64fae",
   "metadata": {},
   "outputs": [
    {
     "name": "stdout",
     "output_type": "stream",
     "text": [
      "('Pulo ', 2, 'm')\n"
     ]
    }
   ],
   "source": [
    "import Kirana\n",
    "\n",
    "print(Kirana.SuperPulo())"
   ]
  },
  {
   "cell_type": "code",
   "execution_count": null,
   "id": "64722886",
   "metadata": {},
   "outputs": [
    {
     "name": "stdout",
     "output_type": "stream",
     "text": [
      "('Causou ', 2, ' de dano')\n"
     ]
    }
   ],
   "source": [
    "import RPG.Kirana\n",
    "\n",
    "print(RPG.Kirana.AtaquePadrão())"
   ]
  },
  {
   "cell_type": "code",
   "execution_count": null,
   "id": "7bde053c",
   "metadata": {},
   "outputs": [
    {
     "name": "stdout",
     "output_type": "stream",
     "text": [
      "3\n"
     ]
    }
   ],
   "source": [
    "import RPG.dadosRPG\n",
    "\n",
    "print(RPG.dadosRPG.rolarDado(20))"
   ]
  },
  {
   "cell_type": "code",
   "execution_count": null,
   "id": "bd0d0fa9",
   "metadata": {},
   "outputs": [
    {
     "name": "stdout",
     "output_type": "stream",
     "text": [
      "5\n"
     ]
    }
   ],
   "source": [
    "import RPG.dadosRPG as dados\n",
    "\n",
    "print(dados.rolarDado(8))"
   ]
  },
  {
   "cell_type": "code",
   "execution_count": null,
   "id": "6fbc9021",
   "metadata": {},
   "outputs": [
    {
     "name": "stdout",
     "output_type": "stream",
     "text": [
      "('Causou ', 1, ' de dano')\n"
     ]
    }
   ],
   "source": [
    "import RPG.Kirana as ki\n",
    "\n",
    "print(ki.AtaquePadrão())"
   ]
  },
  {
   "cell_type": "code",
   "execution_count": null,
   "id": "cc40c426",
   "metadata": {},
   "outputs": [],
   "source": []
  }
 ],
 "metadata": {
  "kernelspec": {
   "display_name": "Python 3",
   "language": "python",
   "name": "python3"
  },
  "language_info": {
   "codemirror_mode": {
    "name": "ipython",
    "version": 3
   },
   "file_extension": ".py",
   "mimetype": "text/x-python",
   "name": "python",
   "nbconvert_exporter": "python",
   "pygments_lexer": "ipython3",
   "version": "3.10.1"
  }
 },
 "nbformat": 4,
 "nbformat_minor": 5
}
