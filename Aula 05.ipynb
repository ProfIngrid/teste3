{
 "cells": [
  {
   "cell_type": "code",
   "execution_count": 1,
   "id": "2d37e677",
   "metadata": {},
   "outputs": [
    {
     "name": "stdout",
     "output_type": "stream",
     "text": [
      "5\n"
     ]
    }
   ],
   "source": [
    "#estruturas de repetição - loop - laço de repetição\n",
    "numeros = [1, 2, 3, 4, 5, 6, 7, 8, 9, 10]\n",
    "print(numeros[4])"
   ]
  },
  {
   "cell_type": "code",
   "execution_count": 2,
   "id": "0bd8a24a",
   "metadata": {},
   "outputs": [
    {
     "name": "stdout",
     "output_type": "stream",
     "text": [
      "1\n",
      "2\n"
     ]
    }
   ],
   "source": [
    "print(numeros[0])\n",
    "print(numeros[1])\n"
   ]
  },
  {
   "cell_type": "code",
   "execution_count": 3,
   "id": "aea1efc4",
   "metadata": {},
   "outputs": [
    {
     "name": "stdout",
     "output_type": "stream",
     "text": [
      "1\n",
      "2\n",
      "3\n",
      "4\n",
      "5\n",
      "6\n",
      "7\n",
      "8\n",
      "9\n",
      "10\n"
     ]
    }
   ],
   "source": [
    "for num in numeros:\n",
    "    print(num)"
   ]
  },
  {
   "cell_type": "code",
   "execution_count": 4,
   "id": "5c39a679",
   "metadata": {},
   "outputs": [
    {
     "name": "stdout",
     "output_type": "stream",
     "text": [
      "[1, 2, 3, 4, 5, 6, 7, 8, 9, 10]\n"
     ]
    }
   ],
   "source": [
    "print(numeros)"
   ]
  },
  {
   "cell_type": "code",
   "execution_count": 5,
   "id": "15432774",
   "metadata": {},
   "outputs": [
    {
     "name": "stdout",
     "output_type": "stream",
     "text": [
      "1\n",
      "2\n",
      "3\n",
      "4\n",
      "5\n",
      "6\n",
      "7\n",
      "8\n",
      "9\n",
      "10\n",
      "11\n",
      "12\n",
      "13\n",
      "14\n",
      "15\n",
      "16\n",
      "17\n",
      "18\n",
      "19\n",
      "20\n"
     ]
    }
   ],
   "source": [
    "#criar uma lista de numeros automaticamente\n",
    "for numero in range(1,21):\n",
    "    print(numero)"
   ]
  },
  {
   "cell_type": "code",
   "execution_count": 6,
   "id": "da026781",
   "metadata": {},
   "outputs": [
    {
     "name": "stdout",
     "output_type": "stream",
     "text": [
      "2\n",
      "4\n",
      "6\n",
      "8\n",
      "10\n",
      "12\n",
      "14\n",
      "16\n",
      "18\n",
      "20\n"
     ]
    }
   ],
   "source": [
    "for numero in range(1,21):\n",
    "    if numero%2 == 0 : # % - mod - resto da divisao\n",
    "        print(numero)"
   ]
  },
  {
   "cell_type": "code",
   "execution_count": 7,
   "id": "b26ee19c",
   "metadata": {},
   "outputs": [
    {
     "name": "stdout",
     "output_type": "stream",
     "text": [
      "F\n",
      "r\n",
      "o\n",
      "z\n",
      "e\n",
      "n\n",
      " \n",
      "2\n",
      " \n",
      "é\n",
      " \n",
      "m\n",
      "e\n",
      "l\n",
      "h\n",
      "o\n",
      "r\n",
      " \n",
      "q\n",
      "u\n",
      "e\n",
      " \n",
      "F\n",
      "r\n",
      "o\n",
      "z\n",
      "e\n",
      "n\n",
      " \n",
      "1\n"
     ]
    }
   ],
   "source": [
    "#percorrer por uma string\n",
    "texto = \"Frozen 2 é melhor que Frozen 1\"\n",
    "for letra in texto:\n",
    "    print(letra)"
   ]
  },
  {
   "cell_type": "code",
   "execution_count": 9,
   "id": "9e510554",
   "metadata": {},
   "outputs": [
    {
     "name": "stdout",
     "output_type": "stream",
     "text": [
      "HP:  20  Dano:  5\n",
      "HP:  15  Dano:  3\n",
      "HP:  12  Dano:  1\n",
      "HP:  11  Dano:  2\n",
      "HP:  9  Dano:  5\n",
      "HP:  4  Dano:  2\n",
      "HP:  2  Dano:  2\n"
     ]
    }
   ],
   "source": [
    "#while - enquanto - uma condição for verdadeira\n",
    "import random\n",
    "hp = 20\n",
    "dano = random.randint(1,5)\n",
    "while hp > 0:\n",
    "    print(\"HP: \",hp,\" Dano: \", dano)\n",
    "    hp = hp - dano\n",
    "    dano = random.randint(1,5)\n",
    "    "
   ]
  },
  {
   "cell_type": "code",
   "execution_count": 10,
   "id": "26f5200b",
   "metadata": {},
   "outputs": [
    {
     "name": "stdout",
     "output_type": "stream",
     "text": [
      "HP:  30  Dano:  1\n",
      "HP:  30  Dano:  7\n",
      "Levou dano!\n",
      "HP:  23  Dano:  3\n",
      "Defendeu!\n",
      "HP:  23  Dano:  4\n",
      "Defendeu!\n",
      "HP:  23  Dano:  4\n",
      "Defendeu!\n",
      "HP:  23  Dano:  1\n",
      "HP:  23  Dano:  5\n",
      "Levou dano!\n",
      "HP:  18  Dano:  6\n",
      "Levou dano!\n",
      "HP:  12  Dano:  8\n",
      "Levou dano!\n",
      "Melhor fugir\n"
     ]
    }
   ],
   "source": [
    "#break, continue e pass\n",
    "#break - para o loop\n",
    "#continue - vai para o proximo loop\n",
    "#pass - não faz nada\n",
    "hp = 30\n",
    "defesa = 4\n",
    "dano = random.randint(1,8)\n",
    "while hp > 0 :\n",
    "    print(\"HP: \",hp,\" Dano: \", dano)\n",
    "    if dano <= defesa/2:\n",
    "        dano = random.randint(1,8)\n",
    "        pass\n",
    "    elif dano <= defesa: \n",
    "        print(\"Defendeu!\")\n",
    "        dano = random.randint(1,8)\n",
    "        continue\n",
    "    else:\n",
    "        print(\"Levou dano!\")\n",
    "        hp = hp - dano\n",
    "        dano = random.randint(1,8)\n",
    "    if hp <=5 :\n",
    "        print(\"Melhor fugir\")\n",
    "        break\n"
   ]
  },
  {
   "cell_type": "code",
   "execution_count": 13,
   "id": "663e9da5",
   "metadata": {},
   "outputs": [
    {
     "name": "stdout",
     "output_type": "stream",
     "text": [
      "Digite o número da tabuada:5\n",
      "5\n",
      "10\n",
      "15\n",
      "20\n",
      "25\n",
      "30\n",
      "35\n",
      "40\n",
      "45\n",
      "50\n"
     ]
    }
   ],
   "source": [
    "numeroTab = input(\"Digite o número da tabuada:\") #string\n",
    "#converter o string para numero inteiro\n",
    "numeroTab = int(numeroTab)\n",
    "\n",
    "for n in range(1,11):\n",
    "    print(numeroTab * n)"
   ]
  },
  {
   "cell_type": "code",
   "execution_count": null,
   "id": "69f27733",
   "metadata": {},
   "outputs": [],
   "source": []
  }
 ],
 "metadata": {
  "kernelspec": {
   "display_name": "Python 3",
   "language": "python",
   "name": "python3"
  },
  "language_info": {
   "codemirror_mode": {
    "name": "ipython",
    "version": 3
   },
   "file_extension": ".py",
   "mimetype": "text/x-python",
   "name": "python",
   "nbconvert_exporter": "python",
   "pygments_lexer": "ipython3",
   "version": "3.8.8"
  }
 },
 "nbformat": 4,
 "nbformat_minor": 5
}
