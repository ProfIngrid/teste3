{
 "cells": [
  {
   "cell_type": "code",
   "execution_count": 1,
   "id": "153b145f",
   "metadata": {},
   "outputs": [],
   "source": [
    "#string é um texto ou palavra\n",
    "string1 = \"Olá Mundo!\""
   ]
  },
  {
   "cell_type": "code",
   "execution_count": 2,
   "id": "53a50d12",
   "metadata": {},
   "outputs": [],
   "source": [
    "string2 = \"Tudo bem com vcs?\""
   ]
  },
  {
   "cell_type": "code",
   "execution_count": 3,
   "id": "1375e6d0",
   "metadata": {},
   "outputs": [],
   "source": [
    "#usando aspas simples\n",
    "string3 = 'Usando aspas simples também funciona'"
   ]
  },
  {
   "cell_type": "code",
   "execution_count": 4,
   "id": "8a0d7a69",
   "metadata": {},
   "outputs": [
    {
     "name": "stdout",
     "output_type": "stream",
     "text": [
      "Olá Mundo!\n",
      "Tudo bem com vcs?\n",
      "Usando aspas simples também funciona\n"
     ]
    }
   ],
   "source": [
    "#como exibir?\n",
    "print(string1)\n",
    "print(string2)\n",
    "print(string3)"
   ]
  },
  {
   "cell_type": "code",
   "execution_count": 6,
   "id": "c1bc56d4",
   "metadata": {},
   "outputs": [
    {
     "name": "stdout",
     "output_type": "stream",
     "text": [
      "Olá Mundo!\n",
      "Algum texto\n"
     ]
    },
    {
     "data": {
      "text/plain": [
       "'Texto para fora'"
      ]
     },
     "execution_count": 6,
     "metadata": {},
     "output_type": "execute_result"
    }
   ],
   "source": [
    "#exibir com uma variável\n",
    "print(string1)\n",
    "#direto dentro do print\n",
    "print(\"Algum texto\")\n",
    "\n",
    "\"Texto para fora\" #não é o ideal"
   ]
  },
  {
   "cell_type": "code",
   "execution_count": 7,
   "id": "dc7017a8",
   "metadata": {},
   "outputs": [
    {
     "name": "stdout",
     "output_type": "stream",
     "text": [
      "Quero digitar \n",
      " usando duas linhas\n"
     ]
    }
   ],
   "source": [
    "#Saltar linhas em um texto\n",
    "print(\"Quero digitar \\n usando duas linhas\")"
   ]
  },
  {
   "cell_type": "code",
   "execution_count": 8,
   "id": "bba6435f",
   "metadata": {},
   "outputs": [
    {
     "name": "stdout",
     "output_type": "stream",
     "text": [
      "Olá \t Alunos\n"
     ]
    }
   ],
   "source": [
    "#deixar um espaço grande - tabulação\n",
    "print(\"Olá \\t Alunos\")"
   ]
  },
  {
   "cell_type": "code",
   "execution_count": 9,
   "id": "b45616e9",
   "metadata": {},
   "outputs": [
    {
     "data": {
      "text/plain": [
       "47"
      ]
     },
     "execution_count": 9,
     "metadata": {},
     "output_type": "execute_result"
    }
   ],
   "source": [
    "#contar caracteres\n",
    "frase = \"Voltei a assistir boku no hero! Viva o midoria!\"\n",
    "\n",
    "#função - códigos pré programados na linguagem\n",
    "len(frase)"
   ]
  },
  {
   "cell_type": "code",
   "execution_count": 10,
   "id": "f812493a",
   "metadata": {},
   "outputs": [
    {
     "name": "stdout",
     "output_type": "stream",
     "text": [
      "I\n"
     ]
    }
   ],
   "source": [
    "#imprimir uma unica letra\n",
    "nome = \"Izuku Midoria\"\n",
    "print(nome[0])"
   ]
  },
  {
   "cell_type": "code",
   "execution_count": 11,
   "id": "3306427b",
   "metadata": {},
   "outputs": [
    {
     "name": "stdout",
     "output_type": "stream",
     "text": [
      "Midoria\n"
     ]
    }
   ],
   "source": [
    "#imprimi uma parte da string\n",
    "print(nome[6:])"
   ]
  },
  {
   "cell_type": "code",
   "execution_count": 12,
   "id": "b53d38d7",
   "metadata": {},
   "outputs": [
    {
     "name": "stdout",
     "output_type": "stream",
     "text": [
      "Izuku \n"
     ]
    }
   ],
   "source": [
    "#imprimir até um caractere\n",
    "print(nome[:6])"
   ]
  },
  {
   "cell_type": "code",
   "execution_count": 14,
   "id": "b4579a4a",
   "metadata": {},
   "outputs": [
    {
     "name": "stdout",
     "output_type": "stream",
     "text": [
      "Liana\n"
     ]
    }
   ],
   "source": [
    "meuNome = \"Ingrid Liana Leite\"\n",
    "print(meuNome[7:12])"
   ]
  },
  {
   "cell_type": "code",
   "execution_count": 15,
   "id": "16cc4dc3",
   "metadata": {},
   "outputs": [
    {
     "name": "stdout",
     "output_type": "stream",
     "text": [
      "e\n"
     ]
    }
   ],
   "source": [
    "#ultima letra\n",
    "print(meuNome[-1])"
   ]
  },
  {
   "cell_type": "code",
   "execution_count": 17,
   "id": "16f6e304",
   "metadata": {},
   "outputs": [
    {
     "name": "stdout",
     "output_type": "stream",
     "text": [
      "Ingrid Liana \n"
     ]
    }
   ],
   "source": [
    "print(meuNome[:-5])"
   ]
  },
  {
   "cell_type": "code",
   "execution_count": 18,
   "id": "dbf933e0",
   "metadata": {},
   "outputs": [
    {
     "name": "stdout",
     "output_type": "stream",
     "text": [
      "Mnatraéajt\n"
     ]
    }
   ],
   "source": [
    "#exibir pulando caracteres\n",
    "outraFrase = \"Minha turma é a jato\"\n",
    "print(outraFrase[::2])"
   ]
  },
  {
   "cell_type": "code",
   "execution_count": 19,
   "id": "9e3f60b1",
   "metadata": {},
   "outputs": [
    {
     "name": "stdout",
     "output_type": "stream",
     "text": [
      "7\n"
     ]
    }
   ],
   "source": [
    "#encontra um caractere específico\n",
    "email = \"i.silva@ctrlplay.com.br\"\n",
    "print( email.find(\"@\") )"
   ]
  },
  {
   "cell_type": "code",
   "execution_count": 20,
   "id": "b5e4397c",
   "metadata": {},
   "outputs": [
    {
     "name": "stdout",
     "output_type": "stream",
     "text": [
      "i.silva\n"
     ]
    }
   ],
   "source": [
    "print(email[: email.find(\"@\") ] )"
   ]
  },
  {
   "cell_type": "code",
   "execution_count": 21,
   "id": "595e4138",
   "metadata": {},
   "outputs": [
    {
     "name": "stdout",
     "output_type": "stream",
     "text": [
      "3\n"
     ]
    }
   ],
   "source": [
    "#conta caracteres repetidos\n",
    "print( email.count(\".\") )"
   ]
  },
  {
   "cell_type": "code",
   "execution_count": 22,
   "id": "88d7f4bd",
   "metadata": {},
   "outputs": [
    {
     "name": "stdout",
     "output_type": "stream",
     "text": [
      "Shoto Todoroki\n"
     ]
    }
   ],
   "source": [
    "#concatenação - concatenar - unir duas strings\n",
    "primeiroNome = \"Shoto \"\n",
    "sobrenome = \"Todoroki\"\n",
    "print(primeiroNome+sobrenome)"
   ]
  },
  {
   "cell_type": "code",
   "execution_count": 23,
   "id": "b76af72a",
   "metadata": {},
   "outputs": [
    {
     "name": "stdout",
     "output_type": "stream",
     "text": [
      "TodorokiTodorokiTodorokiTodorokiTodorokiTodorokiTodoroki\n"
     ]
    }
   ],
   "source": [
    "#repetição\n",
    "print(sobrenome*7)"
   ]
  },
  {
   "cell_type": "code",
   "execution_count": 24,
   "id": "28371da7",
   "metadata": {},
   "outputs": [
    {
     "name": "stdout",
     "output_type": "stream",
     "text": [
      "Hoje dia 15 é o dia dos professores\n"
     ]
    }
   ],
   "source": [
    "#variavel numerica\n",
    "diaDeHoje = 15\n",
    "\n",
    "#usar a função str para transformar numero em string\n",
    "print(\"Hoje dia \"+ str(diaDeHoje) +\" é o dia dos professores\")"
   ]
  },
  {
   "cell_type": "code",
   "execution_count": 25,
   "id": "63ca6ded",
   "metadata": {},
   "outputs": [
    {
     "name": "stdout",
     "output_type": "stream",
     "text": [
      "Vocês precisam se unir\n"
     ]
    }
   ],
   "source": [
    "# Desafio, usando o que aprendemos até agora, exibam apenas \"Vocês precisam se unir\" na tela\n",
    "desafio = \"Quero ver se vocês estão entendendo. Vocês precisam se unir, para resolver o problema!\"\n",
    "letra1 = desafio.find(\"V\")\n",
    "letra2 = desafio.find(\",\")\n",
    "print(desafio[ letra1 : letra2 ] )\n"
   ]
  },
  {
   "cell_type": "code",
   "execution_count": 26,
   "id": "3e41e69f",
   "metadata": {},
   "outputs": [
    {
     "name": "stdout",
     "output_type": "stream",
     "text": [
      "Digite seu nome:Liana\n",
      "Olá Liana\n"
     ]
    }
   ],
   "source": [
    "nome = input(\"Digite seu nome:\")\n",
    "print(\"Olá \"+nome)"
   ]
  },
  {
   "cell_type": "code",
   "execution_count": null,
   "id": "adfc17b3",
   "metadata": {},
   "outputs": [],
   "source": []
  }
 ],
 "metadata": {
  "kernelspec": {
   "display_name": "Python 3",
   "language": "python",
   "name": "python3"
  },
  "language_info": {
   "codemirror_mode": {
    "name": "ipython",
    "version": 3
   },
   "file_extension": ".py",
   "mimetype": "text/x-python",
   "name": "python",
   "nbconvert_exporter": "python",
   "pygments_lexer": "ipython3",
   "version": "3.8.8"
  }
 },
 "nbformat": 4,
 "nbformat_minor": 5
}
