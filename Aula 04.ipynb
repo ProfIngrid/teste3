{
 "cells": [
  {
   "cell_type": "code",
   "execution_count": 1,
   "id": "7668f9fc",
   "metadata": {},
   "outputs": [
    {
     "data": {
      "text/plain": [
       "False"
      ]
     },
     "execution_count": 1,
     "metadata": {},
     "output_type": "execute_result"
    }
   ],
   "source": [
    "#Estrutura condicional\n",
    "#operadores de comparação\n",
    "\n",
    "#Condição - Comparação - Verdadeiro ou falso\n",
    "ataque = 10\n",
    "defesa = 20\n",
    "\n",
    "#igualdade\n",
    "ataque == defesa #Verdadeira ou falsa ?"
   ]
  },
  {
   "cell_type": "code",
   "execution_count": 2,
   "id": "3582a38d",
   "metadata": {},
   "outputs": [
    {
     "data": {
      "text/plain": [
       "True"
      ]
     },
     "execution_count": 2,
     "metadata": {},
     "output_type": "execute_result"
    }
   ],
   "source": [
    "ataque*2 == defesa #True or false ?"
   ]
  },
  {
   "cell_type": "code",
   "execution_count": 3,
   "id": "43ee134a",
   "metadata": {},
   "outputs": [
    {
     "data": {
      "text/plain": [
       "False"
      ]
     },
     "execution_count": 3,
     "metadata": {},
     "output_type": "execute_result"
    }
   ],
   "source": [
    "personagem = \"Liana\"\n",
    "inimigo = \"Orc\"\n",
    "personagem == inimigo #True or false ?\n"
   ]
  },
  {
   "cell_type": "code",
   "execution_count": 4,
   "id": "02316886",
   "metadata": {},
   "outputs": [
    {
     "data": {
      "text/plain": [
       "True"
      ]
     },
     "execution_count": 4,
     "metadata": {},
     "output_type": "execute_result"
    }
   ],
   "source": [
    "inimigo2 = \"Orc\"\n",
    "inimigo == inimigo2 #True or false? "
   ]
  },
  {
   "cell_type": "code",
   "execution_count": 5,
   "id": "770a2ee0",
   "metadata": {},
   "outputs": [
    {
     "data": {
      "text/plain": [
       "True"
      ]
     },
     "execution_count": 5,
     "metadata": {},
     "output_type": "execute_result"
    }
   ],
   "source": [
    "#Desigualdade - Diferente\n",
    "ataque != defesa #true or false"
   ]
  },
  {
   "cell_type": "code",
   "execution_count": 6,
   "id": "55aa948d",
   "metadata": {},
   "outputs": [
    {
     "data": {
      "text/plain": [
       "False"
      ]
     },
     "execution_count": 6,
     "metadata": {},
     "output_type": "execute_result"
    }
   ],
   "source": [
    "ataque*2 != defesa #true or false?"
   ]
  },
  {
   "cell_type": "code",
   "execution_count": 7,
   "id": "ee03c48c",
   "metadata": {},
   "outputs": [
    {
     "data": {
      "text/plain": [
       "True"
      ]
     },
     "execution_count": 7,
     "metadata": {},
     "output_type": "execute_result"
    }
   ],
   "source": [
    "personagem != inimigo #True or false?"
   ]
  },
  {
   "cell_type": "code",
   "execution_count": 8,
   "id": "de4cb939",
   "metadata": {},
   "outputs": [
    {
     "data": {
      "text/plain": [
       "False"
      ]
     },
     "execution_count": 8,
     "metadata": {},
     "output_type": "execute_result"
    }
   ],
   "source": [
    "inimigo != inimigo2 #True or false?"
   ]
  },
  {
   "cell_type": "code",
   "execution_count": 9,
   "id": "0fbe81ec",
   "metadata": {},
   "outputs": [
    {
     "data": {
      "text/plain": [
       "True"
      ]
     },
     "execution_count": 9,
     "metadata": {},
     "output_type": "execute_result"
    }
   ],
   "source": [
    "#Maior\n",
    "defesa > ataque"
   ]
  },
  {
   "cell_type": "code",
   "execution_count": 10,
   "id": "85ccfc08",
   "metadata": {},
   "outputs": [
    {
     "data": {
      "text/plain": [
       "True"
      ]
     },
     "execution_count": 10,
     "metadata": {},
     "output_type": "execute_result"
    }
   ],
   "source": [
    "#Maior ou igual\n",
    "defesa >= ataque*2"
   ]
  },
  {
   "cell_type": "code",
   "execution_count": 11,
   "id": "99bfdb65",
   "metadata": {},
   "outputs": [
    {
     "data": {
      "text/plain": [
       "False"
      ]
     },
     "execution_count": 11,
     "metadata": {},
     "output_type": "execute_result"
    }
   ],
   "source": [
    "#Texto - string - ordem alfabética\n",
    "personagem > inimigo "
   ]
  },
  {
   "cell_type": "code",
   "execution_count": 12,
   "id": "dd92a648",
   "metadata": {},
   "outputs": [
    {
     "data": {
      "text/plain": [
       "False"
      ]
     },
     "execution_count": 12,
     "metadata": {},
     "output_type": "execute_result"
    }
   ],
   "source": [
    "#Menor\n",
    "defesa < ataque "
   ]
  },
  {
   "cell_type": "code",
   "execution_count": 13,
   "id": "ca2c97e7",
   "metadata": {},
   "outputs": [
    {
     "data": {
      "text/plain": [
       "True"
      ]
     },
     "execution_count": 13,
     "metadata": {},
     "output_type": "execute_result"
    }
   ],
   "source": [
    "#Menor ou igual\n",
    "defesa <= ataque*2"
   ]
  },
  {
   "cell_type": "code",
   "execution_count": 14,
   "id": "0eedc2ea",
   "metadata": {},
   "outputs": [
    {
     "data": {
      "text/plain": [
       "True"
      ]
     },
     "execution_count": 14,
     "metadata": {},
     "output_type": "execute_result"
    }
   ],
   "source": [
    "#Ordem alfabetica\n",
    "personagem < inimigo"
   ]
  },
  {
   "cell_type": "code",
   "execution_count": 16,
   "id": "99e0a2f9",
   "metadata": {},
   "outputs": [
    {
     "data": {
      "text/plain": [
       "True"
      ]
     },
     "execution_count": 16,
     "metadata": {},
     "output_type": "execute_result"
    }
   ],
   "source": [
    "#Não podemos compara numero com texto\n",
    "\"12\" < \"Doze\""
   ]
  },
  {
   "cell_type": "code",
   "execution_count": 17,
   "id": "1c676763",
   "metadata": {},
   "outputs": [
    {
     "data": {
      "text/plain": [
       "True"
      ]
     },
     "execution_count": 17,
     "metadata": {},
     "output_type": "execute_result"
    }
   ],
   "source": [
    "#Operadores em cadeia\n",
    "1 < 2 < 3 #true or false\n",
    "#se 1 é menor do que o 2 - 2 é menor do que o 3"
   ]
  },
  {
   "cell_type": "code",
   "execution_count": 18,
   "id": "84cde2e7",
   "metadata": {},
   "outputs": [
    {
     "data": {
      "text/plain": [
       "False"
      ]
     },
     "execution_count": 18,
     "metadata": {},
     "output_type": "execute_result"
    }
   ],
   "source": [
    "1 < 2 > 3 #True or false \n",
    "#Se o 1 é menor do que o 2 - 2 é maior do que 3"
   ]
  },
  {
   "cell_type": "code",
   "execution_count": 19,
   "id": "5bcb7252",
   "metadata": {},
   "outputs": [
    {
     "data": {
      "text/plain": [
       "True"
      ]
     },
     "execution_count": 19,
     "metadata": {},
     "output_type": "execute_result"
    }
   ],
   "source": [
    "# and - True - quando ambas forem true, se uma for false, false\n",
    "1 < 2 and 2 < 3"
   ]
  },
  {
   "cell_type": "code",
   "execution_count": 20,
   "id": "92d381ee",
   "metadata": {},
   "outputs": [
    {
     "data": {
      "text/plain": [
       "False"
      ]
     },
     "execution_count": 20,
     "metadata": {},
     "output_type": "execute_result"
    }
   ],
   "source": [
    "10 < 30 and 50 > 60"
   ]
  },
  {
   "cell_type": "code",
   "execution_count": 21,
   "id": "3179d2c0",
   "metadata": {},
   "outputs": [
    {
     "data": {
      "text/plain": [
       "True"
      ]
     },
     "execution_count": 21,
     "metadata": {},
     "output_type": "execute_result"
    }
   ],
   "source": [
    "# or - true - quando uma das duas forem true, false é apenas se ambas forem false\n",
    "1 == 2 or 2 < 5"
   ]
  },
  {
   "cell_type": "code",
   "execution_count": 22,
   "id": "38a3a930",
   "metadata": {},
   "outputs": [
    {
     "data": {
      "text/plain": [
       "False"
      ]
     },
     "execution_count": 22,
     "metadata": {},
     "output_type": "execute_result"
    }
   ],
   "source": [
    "3 < 1 or 50 < 10"
   ]
  },
  {
   "cell_type": "code",
   "execution_count": 26,
   "id": "e2a21d58",
   "metadata": {},
   "outputs": [
    {
     "name": "stdout",
     "output_type": "stream",
     "text": [
      "Subiu de nível!\n"
     ]
    }
   ],
   "source": [
    "#Estrutura condicional\n",
    "experiencia = 200\n",
    "if experiencia >= 150 : #SE \n",
    "    print(\"Subiu de nível!\")\n",
    "else: #senão\n",
    "    print(\"Você ainda está no nível 1\")"
   ]
  },
  {
   "cell_type": "code",
   "execution_count": 29,
   "id": "76a5dce3",
   "metadata": {},
   "outputs": [
    {
     "name": "stdout",
     "output_type": "stream",
     "text": [
      "Essa foi quase!\n"
     ]
    }
   ],
   "source": [
    "vida = 10\n",
    "dano = 5\n",
    "#Desmaiou ou não ?\n",
    "#Se o dano for maior do que a vida, então ele desmaiou\n",
    "#Senão ele ainda está acordado!\n",
    "if dano > vida :\n",
    "    print(\"Perdeu playboy!\")\n",
    "else:\n",
    "    print(\"Essa foi quase!\")"
   ]
  },
  {
   "cell_type": "code",
   "execution_count": 32,
   "id": "94e7c5ea",
   "metadata": {},
   "outputs": [
    {
     "name": "stdout",
     "output_type": "stream",
     "text": [
      "Nivel 1\n"
     ]
    }
   ],
   "source": [
    "#Estrutura condicional composta\n",
    "nivel1 = 150\n",
    "nivel2 = 250\n",
    "minhaXP = 170\n",
    "\n",
    "if minhaXP < 150:\n",
    "    print(\"Ainda sou noob, nivel 0\")\n",
    "elif minhaXP < 250 : #senão SE\n",
    "    print(\"Nivel 1\")\n",
    "else:\n",
    "    print(\"Nivel 2\")"
   ]
  },
  {
   "cell_type": "code",
   "execution_count": null,
   "id": "940b8f99",
   "metadata": {},
   "outputs": [],
   "source": []
  }
 ],
 "metadata": {
  "kernelspec": {
   "display_name": "Python 3",
   "language": "python",
   "name": "python3"
  },
  "language_info": {
   "codemirror_mode": {
    "name": "ipython",
    "version": 3
   },
   "file_extension": ".py",
   "mimetype": "text/x-python",
   "name": "python",
   "nbconvert_exporter": "python",
   "pygments_lexer": "ipython3",
   "version": "3.8.8"
  }
 },
 "nbformat": 4,
 "nbformat_minor": 5
}
