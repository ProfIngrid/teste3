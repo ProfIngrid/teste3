{
 "cells": [
  {
   "cell_type": "code",
   "execution_count": 2,
   "id": "3a592e05",
   "metadata": {},
   "outputs": [
    {
     "name": "stdout",
     "output_type": "stream",
     "text": [
      "Digite um numero:12\n",
      "Digite um numero:34\n",
      "Digite um numero:11\n",
      "Digite um numero:10\n",
      "Digite um numero:7\n",
      "Digite um numero:40\n",
      "Digite um numero:33\n",
      "Digite um numero:21\n",
      "Digite um numero:5\n",
      "Digite um numero:67\n",
      "O maior valor é  67\n"
     ]
    }
   ],
   "source": [
    "#Exercicio 2 - aula 05\n",
    "numContagem = 10\n",
    "valores = []\n",
    "\n",
    "for i in range(numContagem):\n",
    "    valores.append( int(input(\"Digite um numero:\")) )\n",
    "\n",
    "print(\"O maior valor é \", max(valores) )\n"
   ]
  },
  {
   "cell_type": "code",
   "execution_count": 3,
   "id": "cf4eb152",
   "metadata": {},
   "outputs": [],
   "source": [
    "#Tupla - semelhante as listas - porém é imutável\n",
    "t = (1, 2, 3)"
   ]
  },
  {
   "cell_type": "code",
   "execution_count": 4,
   "id": "f8458f88",
   "metadata": {},
   "outputs": [],
   "source": [
    "#Pode misturar os tipos de dados\n",
    "#Nome, idade, super poder, quer ser heroi?, pontos de vida\n",
    "personagem = (\"Kirana\", 15, \"Elasticidade\", True, 10)"
   ]
  },
  {
   "cell_type": "code",
   "execution_count": 5,
   "id": "5fb88f5c",
   "metadata": {},
   "outputs": [
    {
     "name": "stdout",
     "output_type": "stream",
     "text": [
      "Elasticidade\n"
     ]
    }
   ],
   "source": [
    "print(personagem[2])"
   ]
  },
  {
   "cell_type": "code",
   "execution_count": 6,
   "id": "15f7b59b",
   "metadata": {},
   "outputs": [
    {
     "data": {
      "text/plain": [
       "5"
      ]
     },
     "execution_count": 6,
     "metadata": {},
     "output_type": "execute_result"
    }
   ],
   "source": [
    "#contar quantos valores tem\n",
    "len(personagem)"
   ]
  },
  {
   "cell_type": "code",
   "execution_count": 7,
   "id": "57cb6019",
   "metadata": {},
   "outputs": [
    {
     "data": {
      "text/plain": [
       "2"
      ]
     },
     "execution_count": 7,
     "metadata": {},
     "output_type": "execute_result"
    }
   ],
   "source": [
    "#Função index - retorna o indice de um valor\n",
    "personagem.index(\"Elasticidade\")"
   ]
  },
  {
   "cell_type": "code",
   "execution_count": 8,
   "id": "f217ea5c",
   "metadata": {},
   "outputs": [
    {
     "data": {
      "text/plain": [
       "1"
      ]
     },
     "execution_count": 8,
     "metadata": {},
     "output_type": "execute_result"
    }
   ],
   "source": [
    "#count - conta quantas vezes um valor se repetiu\n",
    "personagem.count(\"Kirana\")"
   ]
  },
  {
   "cell_type": "code",
   "execution_count": 9,
   "id": "5cc0a813",
   "metadata": {},
   "outputs": [
    {
     "ename": "TypeError",
     "evalue": "'tuple' object does not support item assignment",
     "output_type": "error",
     "traceback": [
      "\u001b[1;31m---------------------------------------------------------------------------\u001b[0m",
      "\u001b[1;31mTypeError\u001b[0m                                 Traceback (most recent call last)",
      "\u001b[1;32m<ipython-input-9-ca5d33619bb1>\u001b[0m in \u001b[0;36m<module>\u001b[1;34m\u001b[0m\n\u001b[1;32m----> 1\u001b[1;33m \u001b[0mpersonagem\u001b[0m\u001b[1;33m[\u001b[0m\u001b[1;36m0\u001b[0m\u001b[1;33m]\u001b[0m \u001b[1;33m=\u001b[0m \u001b[1;34m\"Liana\"\u001b[0m\u001b[1;33m\u001b[0m\u001b[1;33m\u001b[0m\u001b[0m\n\u001b[0m",
      "\u001b[1;31mTypeError\u001b[0m: 'tuple' object does not support item assignment"
     ]
    }
   ],
   "source": [
    "personagem[0] = \"Liana\""
   ]
  },
  {
   "cell_type": "code",
   "execution_count": 10,
   "id": "65d9bfb5",
   "metadata": {},
   "outputs": [],
   "source": [
    "#Porque usar tuplas?\n",
    "#Tupla ela oferece integridade aos dados\n",
    "#Quando eu quiser que algo nunca mude\n",
    "#Eu uso uma tupla.\n",
    "#Usar a tupla com cuidado."
   ]
  },
  {
   "cell_type": "code",
   "execution_count": 11,
   "id": "0e3e41d7",
   "metadata": {},
   "outputs": [],
   "source": [
    "del t"
   ]
  },
  {
   "cell_type": "code",
   "execution_count": 12,
   "id": "f0c7c2cb",
   "metadata": {},
   "outputs": [
    {
     "name": "stdout",
     "output_type": "stream",
     "text": [
      "(4, 5, 6)\n"
     ]
    }
   ],
   "source": [
    "t = (4, 5, 6)\n",
    "print(t)"
   ]
  },
  {
   "cell_type": "code",
   "execution_count": 13,
   "id": "c30af5e5",
   "metadata": {},
   "outputs": [],
   "source": [
    "#Sets - Como listas - Eles não permitem repetição\n",
    "habilidades = set()\n",
    "habilidades.add(\"Super Pulo\")\n",
    "habilidades.add(\"Mãos Gigantes\")\n",
    "habilidades.add(\"Esticar\")"
   ]
  },
  {
   "cell_type": "code",
   "execution_count": 14,
   "id": "420cf4cf",
   "metadata": {},
   "outputs": [
    {
     "name": "stdout",
     "output_type": "stream",
     "text": [
      "{'Super Pulo', 'Esticar', 'Mãos Gigantes'}\n"
     ]
    }
   ],
   "source": [
    "print(habilidades)"
   ]
  },
  {
   "cell_type": "code",
   "execution_count": 15,
   "id": "061bfe79",
   "metadata": {},
   "outputs": [
    {
     "name": "stdout",
     "output_type": "stream",
     "text": [
      "{'Super Pulo', 'Esticar', 'Mãos Gigantes'}\n"
     ]
    }
   ],
   "source": [
    "habilidades.add(\"Super Pulo\")\n",
    "print(habilidades)"
   ]
  },
  {
   "cell_type": "code",
   "execution_count": 16,
   "id": "55323da9",
   "metadata": {},
   "outputs": [],
   "source": [
    "#Dicionário - {} :\n",
    "#exemplo\n",
    "# nomeDicionario = { \"chave1\":\"valor1\", \"chave2:valor2\" }\n",
    "mySkills = { \"Super Pulo\":\"Estica as pernas e ganha impulso para saltar\",\n",
    "             \"Mãos Gigantes\":\"Aumenta o tamanho das mãos e causa mais dano\",\n",
    "             \"Esticar\":\"Estica os membro para atacar a distância\" }"
   ]
  },
  {
   "cell_type": "code",
   "execution_count": 17,
   "id": "50ae4675",
   "metadata": {},
   "outputs": [
    {
     "name": "stdout",
     "output_type": "stream",
     "text": [
      "Estica os membro para atacar a distância\n"
     ]
    }
   ],
   "source": [
    "print(mySkills[\"Esticar\"])"
   ]
  },
  {
   "cell_type": "code",
   "execution_count": 18,
   "id": "48575ac5",
   "metadata": {},
   "outputs": [
    {
     "name": "stdout",
     "output_type": "stream",
     "text": [
      "dict_keys(['Super Pulo', 'Mãos Gigantes', 'Esticar'])\n"
     ]
    }
   ],
   "source": [
    "#Exibe todas as keys\n",
    "print(mySkills.keys())"
   ]
  },
  {
   "cell_type": "code",
   "execution_count": 19,
   "id": "244f6805",
   "metadata": {},
   "outputs": [
    {
     "name": "stdout",
     "output_type": "stream",
     "text": [
      "dict_values(['Estica as pernas e ganha impulso para saltar', 'Aumenta o tamanho das mãos e causa mais dano', 'Estica os membro para atacar a distância'])\n"
     ]
    }
   ],
   "source": [
    "#exibe todos os valores\n",
    "print(mySkills.values())"
   ]
  },
  {
   "cell_type": "code",
   "execution_count": 20,
   "id": "d3aefe12",
   "metadata": {},
   "outputs": [
    {
     "name": "stdout",
     "output_type": "stream",
     "text": [
      "dict_items([('Super Pulo', 'Estica as pernas e ganha impulso para saltar'), ('Mãos Gigantes', 'Aumenta o tamanho das mãos e causa mais dano'), ('Esticar', 'Estica os membro para atacar a distância')])\n"
     ]
    }
   ],
   "source": [
    "#exibe tudo\n",
    "print(mySkills.items())"
   ]
  },
  {
   "cell_type": "code",
   "execution_count": null,
   "id": "687a81c3",
   "metadata": {},
   "outputs": [],
   "source": []
  }
 ],
 "metadata": {
  "kernelspec": {
   "display_name": "Python 3",
   "language": "python",
   "name": "python3"
  },
  "language_info": {
   "codemirror_mode": {
    "name": "ipython",
    "version": 3
   },
   "file_extension": ".py",
   "mimetype": "text/x-python",
   "name": "python",
   "nbconvert_exporter": "python",
   "pygments_lexer": "ipython3",
   "version": "3.8.8"
  }
 },
 "nbformat": 4,
 "nbformat_minor": 5
}
