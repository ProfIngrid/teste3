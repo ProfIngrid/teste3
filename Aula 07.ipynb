{
 "cells": [
  {
   "cell_type": "code",
   "execution_count": 1,
   "id": "b2731e59",
   "metadata": {},
   "outputs": [
    {
     "name": "stdout",
     "output_type": "stream",
     "text": [
      "Escreve na tela\n"
     ]
    }
   ],
   "source": [
    "#Funções nomeDaFunção()\n",
    "print(\"Escreve na tela\")"
   ]
  },
  {
   "cell_type": "code",
   "execution_count": 2,
   "id": "c3fb4b93",
   "metadata": {},
   "outputs": [],
   "source": [
    "#Nossas proprias funções\n",
    "#Habilidades Super Pulo\n",
    "def superPulo():\n",
    "    print(\"Pula muito alto\")"
   ]
  },
  {
   "cell_type": "code",
   "execution_count": 3,
   "id": "862f8fad",
   "metadata": {},
   "outputs": [
    {
     "name": "stdout",
     "output_type": "stream",
     "text": [
      "Pula muito alto\n"
     ]
    }
   ],
   "source": [
    "superPulo()"
   ]
  },
  {
   "cell_type": "code",
   "execution_count": 4,
   "id": "6a67b120",
   "metadata": {},
   "outputs": [],
   "source": [
    "import random\n",
    "\n",
    "def ataquePadrao():\n",
    "    print(\"Esticar os membros por até 2m para atacar\")\n",
    "    dano = random.randint(1,6)\n",
    "    print(\"Causou \", dano,\" de dano.\")"
   ]
  },
  {
   "cell_type": "code",
   "execution_count": 5,
   "id": "2cdbc254",
   "metadata": {},
   "outputs": [
    {
     "name": "stdout",
     "output_type": "stream",
     "text": [
      "Esticar os membros por até 2m para atacar\n",
      "Causou  6  de dano.\n"
     ]
    }
   ],
   "source": [
    "ataquePadrao()"
   ]
  },
  {
   "cell_type": "code",
   "execution_count": 6,
   "id": "cbce185c",
   "metadata": {},
   "outputs": [],
   "source": [
    "#Usando Parâmetros - informações passadas para uma função\n",
    "def rolarDado(dado):\n",
    "    print(\"O D\", dado,\" rolou \", random.randint(1,dado) )"
   ]
  },
  {
   "cell_type": "code",
   "execution_count": 7,
   "id": "1a734268",
   "metadata": {},
   "outputs": [
    {
     "name": "stdout",
     "output_type": "stream",
     "text": [
      "O D 20  rolou  12\n"
     ]
    }
   ],
   "source": [
    "rolarDado(20)"
   ]
  },
  {
   "cell_type": "code",
   "execution_count": 8,
   "id": "0539f6ae",
   "metadata": {},
   "outputs": [
    {
     "name": "stdout",
     "output_type": "stream",
     "text": [
      "O D 6  rolou  6\n"
     ]
    }
   ],
   "source": [
    "rolarDado(6)"
   ]
  },
  {
   "cell_type": "code",
   "execution_count": 9,
   "id": "28ee4f9c",
   "metadata": {},
   "outputs": [],
   "source": [
    "#funções com varios parâmetros\n",
    "def rolarComBonus(dado, bonus):\n",
    "    rolagem = random.randint(1,dado)\n",
    "    print(\"O D\",dado,\" rolou \", rolagem )\n",
    "    print(\"Com o bonus de +\",bonus,\" ficou \", rolagem+bonus)"
   ]
  },
  {
   "cell_type": "code",
   "execution_count": 10,
   "id": "d29dd489",
   "metadata": {},
   "outputs": [
    {
     "name": "stdout",
     "output_type": "stream",
     "text": [
      "O D 20  rolou  3\n",
      "Com o bonus de + 2  ficou  5\n"
     ]
    }
   ],
   "source": [
    "rolarComBonus(20, 2)"
   ]
  },
  {
   "cell_type": "code",
   "execution_count": 11,
   "id": "2c53f180",
   "metadata": {},
   "outputs": [],
   "source": [
    "#Função com parâmetro padrão\n",
    "def rolarIniciativa(bonus, d20 = 20):\n",
    "    rol1 = random.randint(1,d20)\n",
    "    iniciativa = rol1+bonus\n",
    "    print(\"O D\",d20,\" rolou \", rol1)\n",
    "    print(\"A iniciativa foi \", iniciativa)"
   ]
  },
  {
   "cell_type": "code",
   "execution_count": 12,
   "id": "caae054a",
   "metadata": {},
   "outputs": [
    {
     "name": "stdout",
     "output_type": "stream",
     "text": [
      "O D 20  rolou  15\n",
      "A iniciativa foi  17\n"
     ]
    }
   ],
   "source": [
    "rolarIniciativa(2)"
   ]
  },
  {
   "cell_type": "code",
   "execution_count": 13,
   "id": "748b26ee",
   "metadata": {},
   "outputs": [
    {
     "name": "stdout",
     "output_type": "stream",
     "text": [
      "O D 4  rolou  4\n",
      "A iniciativa foi  6\n"
     ]
    }
   ],
   "source": [
    "rolarIniciativa(2, 4)"
   ]
  },
  {
   "cell_type": "code",
   "execution_count": 16,
   "id": "7a6e3da5",
   "metadata": {},
   "outputs": [],
   "source": [
    "#Retornar um valor de dentro da função\n",
    "def rolarComDesvantagem(dado):\n",
    "    rolagem1 = random.randint(1, dado)\n",
    "    rolagem2 = random.randint(1, dado)\n",
    "    if rolagem1<= rolagem2:\n",
    "        return rolagem1\n",
    "    else:\n",
    "        return rolagem2"
   ]
  },
  {
   "cell_type": "code",
   "execution_count": 17,
   "id": "8575b670",
   "metadata": {},
   "outputs": [
    {
     "name": "stdout",
     "output_type": "stream",
     "text": [
      "A ação com desvantagem rolou:  2\n"
     ]
    }
   ],
   "source": [
    "desvantagem = rolarComDesvantagem(20)\n",
    "print(\"A ação com desvantagem rolou: \", desvantagem)"
   ]
  },
  {
   "cell_type": "code",
   "execution_count": 19,
   "id": "887681f7",
   "metadata": {},
   "outputs": [],
   "source": [
    "#Rolar com vantagem? - Rolagem de 2 dados, e fica com o maior\n",
    "def rolarComVantagem(dado):\n",
    "    rolagem1 = random.randint(1, dado)\n",
    "    rolagem2 = random.randint(1, dado)\n",
    "    if rolagem1<= rolagem2:\n",
    "        return rolagem2\n",
    "    else:\n",
    "        return rolagem1"
   ]
  },
  {
   "cell_type": "code",
   "execution_count": 20,
   "id": "0b8cd575",
   "metadata": {},
   "outputs": [
    {
     "name": "stdout",
     "output_type": "stream",
     "text": [
      "5\n"
     ]
    }
   ],
   "source": [
    "print(rolarComVantagem(20))"
   ]
  },
  {
   "cell_type": "code",
   "execution_count": 23,
   "id": "3600d794",
   "metadata": {},
   "outputs": [],
   "source": [
    "#Usar uma função dentro de outra\n",
    "def superPulo():\n",
    "    print(\"Estico as pernas para ganhar impulso e pular alto ou longe\")\n",
    "    \n",
    "def maosGigantes():\n",
    "    print(\"Aumenta o tamanho das mãos para causar mais dano\")\n",
    "    \n",
    "def comboPuloMaos():\n",
    "    superPulo()\n",
    "    print(\"Enquanto está no ar ela \")\n",
    "    maosGigantes()\n",
    "    print(\"Direciona as mãos para o inimigo, e cai em cima dele.\")"
   ]
  },
  {
   "cell_type": "code",
   "execution_count": 24,
   "id": "d60c19b0",
   "metadata": {},
   "outputs": [
    {
     "name": "stdout",
     "output_type": "stream",
     "text": [
      "Estico as pernas para ganhar impulso e pular alto ou longe\n",
      "Enquanto está no ar ela \n",
      "Aumenta o tamanho das mãos para causar mais dano\n",
      "Direciona as mãos para o inimigo, e cai em cima dele.\n"
     ]
    }
   ],
   "source": [
    "comboPuloMaos()"
   ]
  },
  {
   "cell_type": "code",
   "execution_count": 25,
   "id": "7fe04e69",
   "metadata": {},
   "outputs": [],
   "source": [
    "#Função Recursiva\n",
    "#Função que chama ela mesmo dentro dela\n",
    "def dadoViciado(dado):\n",
    "    valor = random.randint(1,dado)\n",
    "    if valor == dado :\n",
    "        print(\"Seu dado rolou \", valor)\n",
    "        return 0\n",
    "    else:\n",
    "        return 1 + dadoViciado(dado)"
   ]
  },
  {
   "cell_type": "code",
   "execution_count": 27,
   "id": "7ba14c15",
   "metadata": {},
   "outputs": [
    {
     "name": "stdout",
     "output_type": "stream",
     "text": [
      "Seu dado rolou  20\n"
     ]
    },
    {
     "data": {
      "text/plain": [
       "1"
      ]
     },
     "execution_count": 27,
     "metadata": {},
     "output_type": "execute_result"
    }
   ],
   "source": [
    "dadoViciado(20)"
   ]
  },
  {
   "cell_type": "code",
   "execution_count": null,
   "id": "1c4c6575",
   "metadata": {},
   "outputs": [],
   "source": []
  }
 ],
 "metadata": {
  "kernelspec": {
   "display_name": "Python 3",
   "language": "python",
   "name": "python3"
  },
  "language_info": {
   "codemirror_mode": {
    "name": "ipython",
    "version": 3
   },
   "file_extension": ".py",
   "mimetype": "text/x-python",
   "name": "python",
   "nbconvert_exporter": "python",
   "pygments_lexer": "ipython3",
   "version": "3.8.8"
  }
 },
 "nbformat": 4,
 "nbformat_minor": 5
}
