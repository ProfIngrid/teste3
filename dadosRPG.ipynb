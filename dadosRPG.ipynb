{
 "cells": [
  {
   "cell_type": "code",
   "execution_count": null,
   "id": "85180489",
   "metadata": {},
   "outputs": [],
   "source": [
    "import random\n",
    "\n",
    "def rolarComVantagem(dado):\n",
    "    rol1 = random.randint(1,dado)\n",
    "    rol2 = random.randint(1,dado)\n",
    "    if rol1>rol2:\n",
    "        return rol1\n",
    "    else:\n",
    "        return rol2\n",
    "    \n",
    "def rolarComDesvantagem(dado):\n",
    "    rol1 = random.randint(1,dado)\n",
    "    rol2 = random.randint(1,dado)\n",
    "    if rol1<rol2:\n",
    "        return rol1\n",
    "    else:\n",
    "        return rol2\n",
    "\n",
    "#rolar um dado do valor passado\n",
    "def rolarDado(dado):\n",
    "    return random.randint(1,dado)"
   ]
  }
 ],
 "metadata": {
  "kernelspec": {
   "display_name": "Python 3",
   "language": "python",
   "name": "python3"
  },
  "language_info": {
   "codemirror_mode": {
    "name": "ipython",
    "version": 3
   },
   "file_extension": ".py",
   "mimetype": "text/x-python",
   "name": "python",
   "nbconvert_exporter": "python",
   "pygments_lexer": "ipython3",
   "version": "3.8.8"
  }
 },
 "nbformat": 4,
 "nbformat_minor": 5
}
