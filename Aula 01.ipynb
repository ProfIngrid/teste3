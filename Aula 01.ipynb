{
 "cells": [
  {
   "cell_type": "code",
   "execution_count": 3,
   "id": "778c9fc4",
   "metadata": {},
   "outputs": [
    {
     "data": {
      "text/plain": [
       "25"
      ]
     },
     "execution_count": 3,
     "metadata": {},
     "output_type": "execute_result"
    }
   ],
   "source": [
    "10+5+10"
   ]
  },
  {
   "cell_type": "code",
   "execution_count": 4,
   "id": "338a05d8",
   "metadata": {},
   "outputs": [
    {
     "name": "stdout",
     "output_type": "stream",
     "text": [
      "Olá mundo\n"
     ]
    }
   ],
   "source": [
    "print(\"Olá mundo\")"
   ]
  },
  {
   "cell_type": "code",
   "execution_count": 5,
   "id": "ffae57e7",
   "metadata": {},
   "outputs": [
    {
     "name": "stdout",
     "output_type": "stream",
     "text": [
      "Mostrando texto\n"
     ]
    }
   ],
   "source": [
    "#isso é um comentário - uma linha que não executa nada\n",
    "#print serve para mostrar texto\n",
    "print(\"Mostrando texto\")"
   ]
  },
  {
   "cell_type": "code",
   "execution_count": 6,
   "id": "b777b73f",
   "metadata": {},
   "outputs": [
    {
     "name": "stdout",
     "output_type": "stream",
     "text": [
      "Foi só mais um exemplo\n"
     ]
    }
   ],
   "source": [
    "''' \n",
    "isso é um comentario\n",
    "que tem mais de \n",
    "uma linha\n",
    "'''\n",
    "print(\"Foi só mais um exemplo\")"
   ]
  },
  {
   "cell_type": "code",
   "execution_count": 7,
   "id": "d373a601",
   "metadata": {},
   "outputs": [
    {
     "data": {
      "text/plain": [
       "float"
      ]
     },
     "execution_count": 7,
     "metadata": {},
     "output_type": "execute_result"
    }
   ],
   "source": [
    "#informaçoes - categorizadas por tipos\n",
    "#numeros - com vírgula (ponto) - float - casa decimal\n",
    "type(1.4)\n"
   ]
  },
  {
   "cell_type": "code",
   "execution_count": 8,
   "id": "d11fa6ea",
   "metadata": {},
   "outputs": [
    {
     "data": {
      "text/plain": [
       "int"
      ]
     },
     "execution_count": 8,
     "metadata": {},
     "output_type": "execute_result"
    }
   ],
   "source": [
    "#não possuem casas decimais - Inteiro - int\n",
    "type(7)"
   ]
  },
  {
   "cell_type": "code",
   "execution_count": 18,
   "id": "60217988",
   "metadata": {},
   "outputs": [
    {
     "data": {
      "text/plain": [
       "15"
      ]
     },
     "execution_count": 18,
     "metadata": {},
     "output_type": "execute_result"
    }
   ],
   "source": [
    "#operaçoes basica - adição, subtração, multiplicação, divisão, potenciação\n",
    "10+5 #adição\n"
   ]
  },
  {
   "cell_type": "code",
   "execution_count": 19,
   "id": "89e60745",
   "metadata": {},
   "outputs": [
    {
     "data": {
      "text/plain": [
       "-5"
      ]
     },
     "execution_count": 19,
     "metadata": {},
     "output_type": "execute_result"
    }
   ],
   "source": [
    "5-10 #subtração\n"
   ]
  },
  {
   "cell_type": "code",
   "execution_count": 20,
   "id": "46a927f5",
   "metadata": {},
   "outputs": [
    {
     "data": {
      "text/plain": [
       "27"
      ]
     },
     "execution_count": 20,
     "metadata": {},
     "output_type": "execute_result"
    }
   ],
   "source": [
    "9*3 #multiplicação\n"
   ]
  },
  {
   "cell_type": "code",
   "execution_count": 21,
   "id": "6fe6cdf4",
   "metadata": {},
   "outputs": [
    {
     "data": {
      "text/plain": [
       "7.5"
      ]
     },
     "execution_count": 21,
     "metadata": {},
     "output_type": "execute_result"
    }
   ],
   "source": [
    "15/2 #divisão"
   ]
  },
  {
   "cell_type": "code",
   "execution_count": 22,
   "id": "e039f27f",
   "metadata": {},
   "outputs": [
    {
     "data": {
      "text/plain": [
       "97"
      ]
     },
     "execution_count": 22,
     "metadata": {},
     "output_type": "execute_result"
    }
   ],
   "source": [
    "2+10*10-5"
   ]
  },
  {
   "cell_type": "code",
   "execution_count": 23,
   "id": "87825be1",
   "metadata": {},
   "outputs": [
    {
     "data": {
      "text/plain": [
       "60"
      ]
     },
     "execution_count": 23,
     "metadata": {},
     "output_type": "execute_result"
    }
   ],
   "source": [
    "(2+10)*(10-5)"
   ]
  },
  {
   "cell_type": "code",
   "execution_count": 24,
   "id": "fea36b37",
   "metadata": {},
   "outputs": [
    {
     "data": {
      "text/plain": [
       "8"
      ]
     },
     "execution_count": 24,
     "metadata": {},
     "output_type": "execute_result"
    }
   ],
   "source": [
    "#potenciação\n",
    "2**3"
   ]
  },
  {
   "cell_type": "code",
   "execution_count": 25,
   "id": "cc971b1c",
   "metadata": {},
   "outputs": [
    {
     "data": {
      "text/plain": [
       "20"
      ]
     },
     "execution_count": 25,
     "metadata": {},
     "output_type": "execute_result"
    }
   ],
   "source": [
    "#váriaveis\n",
    "numero = 10\n",
    "numero + numero"
   ]
  },
  {
   "cell_type": "code",
   "execution_count": 26,
   "id": "22e120fe",
   "metadata": {},
   "outputs": [
    {
     "data": {
      "text/plain": [
       "75"
      ]
     },
     "execution_count": 26,
     "metadata": {},
     "output_type": "execute_result"
    }
   ],
   "source": [
    "numero1 = 5\n",
    "numero2 = 15\n",
    "numero1*numero2"
   ]
  },
  {
   "cell_type": "code",
   "execution_count": 27,
   "id": "99fd4f79",
   "metadata": {},
   "outputs": [
    {
     "name": "stdout",
     "output_type": "stream",
     "text": [
      "muito gostoso\n"
     ]
    }
   ],
   "source": [
    "'''\n",
    "nomes de variáveis: \n",
    "não pode comecar com número\n",
    "não pode ter espaço _ ou letras maiusculas\n",
    "sempre deve iniciar com letra minúscula\n",
    "'''\n",
    "boloDeChocolate = \"muito gostoso\"\n",
    "print(boloDeChocolate)"
   ]
  },
  {
   "cell_type": "code",
   "execution_count": 31,
   "id": "d0eafeac",
   "metadata": {},
   "outputs": [
    {
     "data": {
      "text/plain": [
       "4"
      ]
     },
     "execution_count": 31,
     "metadata": {},
     "output_type": "execute_result"
    }
   ],
   "source": [
    "#calculo do quadrado\n",
    "lado = 2\n",
    "lado * lado"
   ]
  },
  {
   "cell_type": "code",
   "execution_count": 32,
   "id": "1daa2d4f",
   "metadata": {},
   "outputs": [
    {
     "name": "stdout",
     "output_type": "stream",
     "text": [
      "Valor total rendido = R$ 64.80 \n"
     ]
    }
   ],
   "source": [
    "'''\n",
    "Faça um programa que recebe um valor inteiro referente a uma quantidade de dinheiro,\n",
    "e imprime o rendimento da poupança sobre esse dinheiro em x meses, onde x é um valor\n",
    "inteiro armazenado em uma variável.\n",
    "'''\n",
    "dinheiro = 1000\n",
    "rendimento = 0.36\n",
    "x = 18\n",
    "# meses * rendimento * dinheiro / 100\n",
    "solucao = x * rendimento * dinheiro / 100\n",
    "print(\"Valor total rendido = R$ %.2f\" %solucao)"
   ]
  },
  {
   "cell_type": "code",
   "execution_count": null,
   "id": "ca5c2efa",
   "metadata": {},
   "outputs": [],
   "source": []
  }
 ],
 "metadata": {
  "kernelspec": {
   "display_name": "Python 3",
   "language": "python",
   "name": "python3"
  },
  "language_info": {
   "codemirror_mode": {
    "name": "ipython",
    "version": 3
   },
   "file_extension": ".py",
   "mimetype": "text/x-python",
   "name": "python",
   "nbconvert_exporter": "python",
   "pygments_lexer": "ipython3",
   "version": "3.8.8"
  }
 },
 "nbformat": 4,
 "nbformat_minor": 5
}
