{
 "cells": [
  {
   "cell_type": "code",
   "execution_count": 4,
   "metadata": {},
   "outputs": [
    {
     "name": "stdout",
     "output_type": "stream",
     "text": [
      "21\n"
     ]
    }
   ],
   "source": [
    "#Tomadas\n",
    "entrada = input()\n",
    "tomadas = entrada.split(\" \")\n",
    "saida = 0\n",
    "for t in tomadas:\n",
    "    saida += (int(t)-1)\n",
    "saida += 1\n",
    "print(saida)"
   ]
  },
  {
   "cell_type": "code",
   "execution_count": 7,
   "metadata": {},
   "outputs": [
    {
     "name": "stdout",
     "output_type": "stream",
     "text": [
      "1\n"
     ]
    }
   ],
   "source": [
    "#Identificando o chá\n",
    "t = input()\n",
    "linha2 = input()\n",
    "resposta = linha2.split(\" \")\n",
    "saida = 0\n",
    "\n",
    "for r in resposta:\n",
    "    if r == t:\n",
    "        saida += 1\n",
    "\n",
    "print(saida)"
   ]
  },
  {
   "cell_type": "code",
   "execution_count": 12,
   "metadata": {},
   "outputs": [
    {
     "name": "stdout",
     "output_type": "stream",
     "text": [
      "200\n"
     ]
    }
   ],
   "source": [
    "#Busca na internet\n",
    "t = input()\n",
    "saida = int(t)*2*2\n",
    "print(saida)"
   ]
  },
  {
   "cell_type": "code",
   "execution_count": 15,
   "metadata": {},
   "outputs": [
    {
     "name": "stdout",
     "output_type": "stream",
     "text": [
      "-3\n"
     ]
    }
   ],
   "source": [
    "#Pneu\n",
    "n = input()\n",
    "m = input()\n",
    "saida = int(n)-int(m)\n",
    "print(saida)"
   ]
  },
  {
   "cell_type": "code",
   "execution_count": 20,
   "metadata": {},
   "outputs": [
    {
     "name": "stdout",
     "output_type": "stream",
     "text": [
      "7\n"
     ]
    }
   ],
   "source": [
    "#Sequencia Secreta\n",
    "n = int(input())\n",
    "v = []\n",
    "for i in range(0,n):\n",
    "    v.append(int(input()))\n",
    "    \n",
    "\n",
    "saida = 0\n",
    "anterior = 0\n",
    "atual = 0\n",
    "for i in v:\n",
    "    anterior = atual\n",
    "    atual = i\n",
    "    if anterior != atual:\n",
    "        saida+=1\n",
    "\n",
    "print(saida)\n"
   ]
  },
  {
   "cell_type": "code",
   "execution_count": 24,
   "metadata": {},
   "outputs": [
    {
     "name": "stdout",
     "output_type": "stream",
     "text": [
      "D\n"
     ]
    }
   ],
   "source": [
    "#Notas da prova\n",
    "nota = int(input())\n",
    "if nota == 0:\n",
    "    print(\"E\")\n",
    "elif nota <= 35:\n",
    "    print(\"D\")\n",
    "elif nota <= 60:\n",
    "    print(\"C\")\n",
    "elif nota <= 85:\n",
    "    print(\"B\")\n",
    "elif nota <= 100:\n",
    "    print(\"A\")\n"
   ]
  },
  {
   "cell_type": "code",
   "execution_count": 27,
   "metadata": {},
   "outputs": [
    {
     "name": "stdout",
     "output_type": "stream",
     "text": [
      "Faltam 50 bolinha (s)\n"
     ]
    }
   ],
   "source": [
    "#Bolinhas de natal\n",
    "bolinhas = int(input())\n",
    "galhos = int(input())\n",
    "\n",
    "total = galhos/2\n",
    "falta = total - bolinhas\n",
    "if falta>0:\n",
    "    print(\"Faltam %d bolinha(s)\" %(falta))\n",
    "else:\n",
    "    print(\"Amelia tem todas bolinhas!\")"
   ]
  },
  {
   "cell_type": "code",
   "execution_count": null,
   "metadata": {},
   "outputs": [],
   "source": []
  }
 ],
 "metadata": {
  "interpreter": {
   "hash": "b2188e69a4bf0a2d51890a282f3e4a35148749386c1ba2ddca5995c0dbc88103"
  },
  "kernelspec": {
   "display_name": "Python 3.10.1 64-bit",
   "language": "python",
   "name": "python3"
  },
  "language_info": {
   "codemirror_mode": {
    "name": "ipython",
    "version": 3
   },
   "file_extension": ".py",
   "mimetype": "text/x-python",
   "name": "python",
   "nbconvert_exporter": "python",
   "pygments_lexer": "ipython3",
   "version": "3.10.1"
  },
  "orig_nbformat": 4
 },
 "nbformat": 4,
 "nbformat_minor": 2
}
