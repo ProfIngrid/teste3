{
 "cells": [
  {
   "cell_type": "code",
   "execution_count": null,
   "id": "ddf73fc6",
   "metadata": {},
   "outputs": [],
   "source": [
    "import random\n",
    "\n",
    "def SuperPulo():\n",
    "    return \"Pulo \",random.randint(1,10),\"m\"\n",
    "\n",
    "def MaosGigantes():\n",
    "    return \"Causou \",random.randint(1,8),\" de dano\"\n",
    "\n",
    "def EsticarDuplo():\n",
    "    return \"Causou \",random.ranint(1,4),\" de dano\"\n",
    "\n",
    "def AtaquePadrao(): #até 2m - ou corpo a corpo\n",
    "    return \"Causou \",random.randint(1,6),\" de dano\"\n",
    "\n"
   ]
  }
 ],
 "metadata": {
  "kernelspec": {
   "display_name": "Python 3",
   "language": "python",
   "name": "python3"
  },
  "language_info": {
   "codemirror_mode": {
    "name": "ipython",
    "version": 3
   },
   "file_extension": ".py",
   "mimetype": "text/x-python",
   "name": "python",
   "nbconvert_exporter": "python",
   "pygments_lexer": "ipython3",
   "version": "3.8.8"
  }
 },
 "nbformat": 4,
 "nbformat_minor": 5
}
