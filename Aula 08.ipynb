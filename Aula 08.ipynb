{
 "cells": [
  {
   "cell_type": "code",
   "execution_count": 1,
   "id": "4718ee11",
   "metadata": {},
   "outputs": [
    {
     "name": "stdout",
     "output_type": "stream",
     "text": [
      "Writing história.txt\n"
     ]
    }
   ],
   "source": [
    "%%writefile história.txt\n",
    "\n",
    "Início do RPG\n",
    "Todos estão interessados em estudar na escola de heróis mais famosa\n",
    "do japão, a escola UA.\n",
    "Nessa escola se formam os melhores heróis, porém não é fácil\n",
    "entrar para a escola.\n",
    "Para entrarem, é necessário fazer uma prova, que vai testar suas\n",
    "habilidades físicas e mentais.\n",
    "Assim como vocês, exitem vários outros estudantes querendo uma vaga\n",
    "para a escola, então vocês e mais um multidão, estão entrando pela\n",
    "porta da escola, todos estão seguindo o caminho direcionado pelos \n",
    "professores, e o caminho leva até uma espécie de praça dentro da escola.\n"
   ]
  },
  {
   "cell_type": "code",
   "execution_count": 3,
   "id": "951a2d85",
   "metadata": {},
   "outputs": [
    {
     "name": "stdout",
     "output_type": "stream",
     "text": [
      "InÃ­cio do RPG\n",
      "Todos estÃ£o interessados em estudar na escola de herÃ³is mais famosa\n",
      "do japÃ£o, a escola UA.\n",
      "Nessa escola se formam os melhores herÃ³is, porÃ©m nÃ£o Ã© fÃ¡cil\n",
      "entrar para a escola.\n",
      "Para entrarem, Ã© necessÃ¡rio fazer uma prova, que vai testar suas\n",
      "habilidades fÃ­sicas e mentais.\n",
      "Assim como vocÃªs, exitem vÃ¡rios outros estudantes querendo uma vaga\n",
      "para a escola, entÃ£o vocÃªs e mais um multidÃ£o, estÃ£o entrando pela\n",
      "porta da escola, todos estÃ£o seguindo o caminho direcionado pelos \n",
      "professores, e o caminho leva atÃ© uma espÃ©cie de praÃ§a dentro da escola.\n",
      "\n"
     ]
    }
   ],
   "source": [
    "#Abrir o arquivo\n",
    "arquivo = open(\"história.txt\")\n",
    "\n",
    "#Lê o arquivo\n",
    "print(arquivo.read())"
   ]
  },
  {
   "cell_type": "code",
   "execution_count": 4,
   "id": "0eeb08d5",
   "metadata": {},
   "outputs": [
    {
     "name": "stdout",
     "output_type": "stream",
     "text": [
      "Início do RPG\n",
      "Todos estão interessados em estudar na escola de heróis mais famosa\n",
      "do japão, a escola UA.\n",
      "Nessa escola se formam os melhores heróis, porém não é fácil\n",
      "entrar para a escola.\n",
      "Para entrarem, é necessário fazer uma prova, que vai testar suas\n",
      "habilidades físicas e mentais.\n",
      "Assim como vocês, exitem vários outros estudantes querendo uma vaga\n",
      "para a escola, então vocês e mais um multidão, estão entrando pela\n",
      "porta da escola, todos estão seguindo o caminho direcionado pelos \n",
      "professores, e o caminho leva até uma espécie de praça dentro da escola.\n",
      "\n"
     ]
    }
   ],
   "source": [
    "#abrir o arquivo, passando o padrão UTF8, para ler acentuação\n",
    "arquivo = open(\"história.txt\",\"r\", encoding=\"utf8\")\n",
    "print(arquivo.read())"
   ]
  },
  {
   "cell_type": "code",
   "execution_count": 5,
   "id": "71b46c9e",
   "metadata": {},
   "outputs": [
    {
     "name": "stdout",
     "output_type": "stream",
     "text": [
      "Writing professorAizawa.txt\n"
     ]
    }
   ],
   "source": [
    "%%writefile professorAizawa.txt\n",
    "Olá participantes!\n",
    "Hoje estamos todos aqui para descobrir aqueles que serão dignos\n",
    "a uma vaga para o curso de heróis mais concorrido do japão."
   ]
  },
  {
   "cell_type": "code",
   "execution_count": 6,
   "id": "175a54e9",
   "metadata": {},
   "outputs": [
    {
     "name": "stdout",
     "output_type": "stream",
     "text": [
      "Olá participantes!\n",
      "\n"
     ]
    }
   ],
   "source": [
    "arquivo1 = open(\"professorAizawa.txt\", \"r\", encoding=\"utf8\")\n",
    "#ler linha por linha\n",
    "print(arquivo1.readline())"
   ]
  },
  {
   "cell_type": "code",
   "execution_count": 7,
   "id": "deae76ed",
   "metadata": {},
   "outputs": [
    {
     "name": "stdout",
     "output_type": "stream",
     "text": [
      "Hoje estamos todos aqui para descobrir aqueles que serão dignos\n",
      "\n"
     ]
    }
   ],
   "source": [
    "print(arquivo1.readline())"
   ]
  },
  {
   "cell_type": "code",
   "execution_count": 9,
   "id": "83128d9b",
   "metadata": {},
   "outputs": [
    {
     "name": "stdout",
     "output_type": "stream",
     "text": [
      "Olá participantes!\n",
      "\n",
      "Hoje estamos todos aqui para descobrir aqueles que serão dignos\n",
      "\n",
      "a uma vaga para o curso de heróis mais concorrido do japão.\n",
      "\n"
     ]
    }
   ],
   "source": [
    "arquivo1.seek(0)\n",
    "for x in arquivo1:\n",
    "    print(x)"
   ]
  },
  {
   "cell_type": "code",
   "execution_count": 10,
   "id": "2b7c6b3d",
   "metadata": {},
   "outputs": [
    {
     "data": {
      "text/plain": [
       "62"
      ]
     },
     "execution_count": 10,
     "metadata": {},
     "output_type": "execute_result"
    }
   ],
   "source": [
    "#inserir um valor em um arquivo\n",
    "#modo r = read\n",
    "#modo w = write - sobrescreve um arquivo\n",
    "#modo a = append - acrescentar - adicionar\n",
    "arquivo2 = open(\"professorAizawa.txt\", \"a\", encoding=\"utf8\")\n",
    "arquivo2.write(\"E sem mais enrolação, o teste começa já. Uma dica, sobrevivam!\")"
   ]
  },
  {
   "cell_type": "code",
   "execution_count": 11,
   "id": "4b2dac5c",
   "metadata": {},
   "outputs": [
    {
     "name": "stdout",
     "output_type": "stream",
     "text": [
      "Olá participantes!\n",
      "Hoje estamos todos aqui para descobrir aqueles que serão dignos\n",
      "a uma vaga para o curso de heróis mais concorrido do japão.\n",
      "E sem mais enrolação, o teste começa já. Uma dica, sobrevivam!\n"
     ]
    }
   ],
   "source": [
    "arquivo2 = open(\"professorAizawa.txt\", \"r\", encoding=\"utf8\")\n",
    "print(arquivo2.read())"
   ]
  },
  {
   "cell_type": "code",
   "execution_count": 12,
   "id": "a2169d26",
   "metadata": {},
   "outputs": [],
   "source": [
    "#fechar os arquivos - libera a memória do PC\n",
    "arquivo.close()\n",
    "arquivo1.close()\n",
    "arquivo2.close()"
   ]
  },
  {
   "cell_type": "code",
   "execution_count": null,
   "id": "f982ed48",
   "metadata": {},
   "outputs": [],
   "source": []
  }
 ],
 "metadata": {
  "kernelspec": {
   "display_name": "Python 3",
   "language": "python",
   "name": "python3"
  },
  "language_info": {
   "codemirror_mode": {
    "name": "ipython",
    "version": 3
   },
   "file_extension": ".py",
   "mimetype": "text/x-python",
   "name": "python",
   "nbconvert_exporter": "python",
   "pygments_lexer": "ipython3",
   "version": "3.8.8"
  }
 },
 "nbformat": 4,
 "nbformat_minor": 5
}
